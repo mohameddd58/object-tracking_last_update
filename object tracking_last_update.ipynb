{
 "cells": [
  {
   "cell_type": "code",
   "execution_count": 1,
   "id": "4faa6d7a",
   "metadata": {},
   "outputs": [
    {
     "name": "stderr",
     "output_type": "stream",
     "text": [
      "Using cache found in C:\\Users\\pc3/.cache\\torch\\hub\\ultralytics_yolov5_master\n",
      "YOLOv5  2023-2-20 Python-3.9.13 torch-1.12.1+cpu CPU\n",
      "\n",
      "Fusing layers... \n",
      "Model summary: 157 layers, 7023610 parameters, 0 gradients, 15.8 GFLOPs\n",
      "Adding AutoShape... \n"
     ]
    }
   ],
   "source": [
    "import os \n",
    "os.chdir(r\"D:\\yolov5\\yolov5\")\n",
    "import torch\n",
    "model = torch.hub.load('ultralytics/yolov5', 'custom', 'runs/train/exp18/weights/best.pt')\n"
   ]
  },
  {
   "cell_type": "code",
   "execution_count": 6,
   "id": "a54954cb",
   "metadata": {},
   "outputs": [
    {
     "name": "stdout",
     "output_type": "stream",
     "text": [
      "0\n",
      "1\n",
      "2\n",
      "3\n",
      "4\n",
      "5\n",
      "6\n",
      "6\n",
      "7\n",
      "7\n",
      "8\n",
      "9\n",
      "10\n"
     ]
    }
   ],
   "source": [
    "import cv2\n",
    "\n",
    "from tracker import *\n",
    "\n",
    "\n",
    "cap=cv2.VideoCapture('V1.mp4')\n",
    "ls= []\n",
    "cs=[]\n",
    "tracker = Tracker()\n",
    "while True:\n",
    "    point1= []\n",
    "    point2=[]\n",
    "    \n",
    "    ret,frame=cap.read()\n",
    "    if not ret:\n",
    "        break\n",
    "       \n",
    "    cv2.imshow(\"FRAME\",frame)\n",
    "    \n",
    "    \n",
    "    results=model(frame)\n",
    "    #print(results.pandas().xyxy[0])\n",
    "    \n",
    "    for index, row in results.pandas().xyxy[0].iterrows():\n",
    "        \n",
    "        x1 = int(row['xmin'])\n",
    "        y1 = int(row['ymin'])\n",
    "        x2 = int(row['xmax'])\n",
    "        y2 = int(row['ymax'])\n",
    "        if row[\"name\"] == \"1 light pole\"  :\n",
    "            point1.append([x1,y1,x2,y2])\n",
    "        elif  row[\"name\"] == \"pole\"  :\n",
    "            point2.append([x1,y1,x2,y2])\n",
    "            \n",
    "    \n",
    "    \n",
    "    boxes_id1 = tracker.update(point1)\n",
    "    boxes_id2 = tracker.update(point2)\n",
    "    for box_id1 in boxes_id1:\n",
    "        x , y , w , h , idd1 = box_id1\n",
    "        cv2.rectangle(frame,(x1,y1),(x2,y2),(0,0,255),3)\n",
    "        cv2.putText(frame,\"1 light pole\",(x1,y1),cv2.FONT_HERSHEY_PLAIN,2,(255,0,0),2)\n",
    "        print(idd1)\n",
    "        if idd1 not in ls:\n",
    "            ls.append(idd1)\n",
    "    \n",
    "    for box_id2 in boxes_id2:\n",
    "        x , y , w , h , idd2 = box_id2\n",
    "        cv2.rectangle(frame,(x1,y1),(x2,y2),(0,0,255),3)\n",
    "        cv2.putText(frame,\"pole\",(x1,y1),cv2.FONT_HERSHEY_PLAIN,2,(255,0,0),2)\n",
    "        print(idd2)\n",
    "        if idd2 not in cs:\n",
    "            cs.append(idd2)\n",
    "            \n",
    "        \n",
    "    \n",
    "    cv2.putText(frame,'number of light_pole ='+str(len(ls)),(50,80),cv2.FONT_HERSHEY_PLAIN,2,(0,0,255),2)\n",
    "    cv2.putText(frame,'number of pole ='+str(len(cs)),(90,140),cv2.FONT_HERSHEY_PLAIN,2,(0,0,255),2)    \n",
    "    cv2.imshow(\"FRAME\",frame)\n",
    "    \n",
    "    if cv2.waitKey(1)==27:\n",
    "        break\n",
    "\n",
    "    \n",
    "cap.release()\n",
    "cv2.destroyAllWindows()"
   ]
  },
  {
   "cell_type": "code",
   "execution_count": null,
   "id": "4ecf72f2",
   "metadata": {},
   "outputs": [],
   "source": []
  }
 ],
 "metadata": {
  "kernelspec": {
   "display_name": "Python 3 (ipykernel)",
   "language": "python",
   "name": "python3"
  },
  "language_info": {
   "codemirror_mode": {
    "name": "ipython",
    "version": 3
   },
   "file_extension": ".py",
   "mimetype": "text/x-python",
   "name": "python",
   "nbconvert_exporter": "python",
   "pygments_lexer": "ipython3",
   "version": "3.9.13"
  }
 },
 "nbformat": 4,
 "nbformat_minor": 5
}
